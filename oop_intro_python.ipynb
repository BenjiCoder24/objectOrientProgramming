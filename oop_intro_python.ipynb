{
 "cells": [
  {
   "cell_type": "markdown",
   "id": "f461e394",
   "metadata": {},
   "source": [
    "\n",
    "# Introduction to Object-Oriented Programming (OOP) in Python\n",
    "\n",
    "In this tutorial, we'll explore the basics of Object-Oriented Programming (OOP) using Python.\n",
    "OOP is a programming paradigm that uses \"objects\" to represent data and methods that operate on that data.\n"
   ]
  },
  {
   "cell_type": "markdown",
   "id": "e29d588d",
   "metadata": {},
   "source": [
    "\n",
    "## Understanding Classes\n",
    "\n",
    "A class is a blueprint for creating objects. It defines a set of attributes that will characterize any object that is instantiated from the class.\n",
    "Attributes are defined in the class body, and they can be data attributes (variables) or methods (functions).\n"
   ]
  },
  {
   "cell_type": "code",
   "execution_count": null,
   "id": "5f68be43",
   "metadata": {},
   "outputs": [],
   "source": [
    "\n",
    "# Define a simple class\n",
    "class ShoppingItem:\n",
    "    # Constructor\n",
    "    def __init__(self, name, quantity):\n",
    "        self.name = name\n",
    "        self.quantity = quantity\n",
    "    \n",
    "    # Method to display item details\n",
    "    def display(self):\n",
    "        print(f\"Item: {self.name}, Quantity: {self.quantity}\")\n",
    "        \n",
    "# Creating an object of the class\n",
    "item1 = ShoppingItem(\"Apple\", 3)\n",
    "item1.display()\n"
   ]
  },
  {
   "cell_type": "markdown",
   "id": "58090d85",
   "metadata": {},
   "source": [
    "\n",
    "## Methods in Classes\n",
    "\n",
    "Methods are functions defined inside a class that describe the behaviors of the objects.\n",
    "In our `ShoppingItem` class, we have defined a method `display` to print the details of the shopping item.\n"
   ]
  },
  {
   "cell_type": "code",
   "execution_count": null,
   "id": "0c2e7eee",
   "metadata": {},
   "outputs": [],
   "source": [
    "\n",
    "# Create more objects\n",
    "item2 = ShoppingItem(\"Banana\", 5)\n",
    "item3 = ShoppingItem(\"Orange\", 2)\n",
    "\n",
    "# Display the details of each item\n",
    "item2.display()\n",
    "item3.display()\n"
   ]
  },
  {
   "cell_type": "markdown",
   "id": "8fcaf72c",
   "metadata": {},
   "source": [
    "\n",
    "## Creating an Array of Objects\n",
    "\n",
    "Now, let's create a list (array) of `ShoppingItem` objects.\n",
    "We will prompt the user to input different items and their quantities. \n",
    "The user can type \"finished\" when they are done adding items.\n"
   ]
  },
  {
   "cell_type": "code",
   "execution_count": null,
   "id": "646c4ba5",
   "metadata": {},
   "outputs": [],
   "source": [
    "\n",
    "# Initialize an empty list to hold shopping items\n",
    "shopping_list = []\n",
    "\n",
    "while True:\n",
    "    name = input(\"Enter item name (or 'finished' to end): \")\n",
    "    if name.lower() == 'finished':\n",
    "        break\n",
    "    quantity = int(input(\"Enter quantity: \"))\n",
    "    item = ShoppingItem(name, quantity)\n",
    "    shopping_list.append(item)\n",
    "\n",
    "# Display all items in the shopping list\n",
    "for item in shopping_list:\n",
    "    item.display()\n"
   ]
  }
 ],
 "metadata": {},
 "nbformat": 4,
 "nbformat_minor": 5
}
