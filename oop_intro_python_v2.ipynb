{
 "cells": [
  {
   "cell_type": "markdown",
   "id": "8603218c",
   "metadata": {},
   "source": [
    "\n",
    "# Introduction to Object-Oriented Programming (OOP) in Python\n",
    "\n",
    "In this tutorial, we'll explore the basics of Object-Oriented Programming (OOP) using Python.\n",
    "OOP is a programming paradigm that uses \"objects\" to represent data and methods that operate on that data.\n"
   ]
  },
  {
   "cell_type": "markdown",
   "id": "2acbdb53",
   "metadata": {},
   "source": [
    "\n",
    "## Simple Example: A Basic Class\n",
    "\n",
    "Let's start with a simple class that represents a `Dog`. This class will have attributes like `name` and `age`, and a method to display the dog's details.\n"
   ]
  },
  {
   "cell_type": "code",
   "execution_count": null,
   "id": "10ed33fc",
   "metadata": {},
   "outputs": [],
   "source": [
    "\n",
    "# Define a simple class\n",
    "class Dog:\n",
    "    # Constructor\n",
    "    def __init__(self, name, age):\n",
    "        self.name = name\n",
    "        self.age = age\n",
    "    \n",
    "    # Method to display dog details\n",
    "    def display(self):\n",
    "        print(f\"Dog: {self.name}, Age: {self.age}\")\n",
    "        \n",
    "# Creating an object of the class\n",
    "dog1 = Dog(\"Buddy\", 4)\n",
    "dog1.display()\n"
   ]
  },
  {
   "cell_type": "markdown",
   "id": "767d0615",
   "metadata": {},
   "source": [
    "\n",
    "## Understanding Classes\n",
    "\n",
    "A class is a blueprint for creating objects. It defines a set of attributes that will characterize any object that is instantiated from the class.\n",
    "Attributes are defined in the class body, and they can be data attributes (variables) or methods (functions).\n"
   ]
  },
  {
   "cell_type": "code",
   "execution_count": null,
   "id": "78cf215b",
   "metadata": {},
   "outputs": [],
   "source": [
    "\n",
    "# Define a more detailed class\n",
    "class ShoppingItem:\n",
    "    # Constructor\n",
    "    def __init__(self, name, quantity):\n",
    "        self.name = name\n",
    "        self.quantity = quantity\n",
    "    \n",
    "    # Method to display item details\n",
    "    def display(self):\n",
    "        print(f\"Item: {self.name}, Quantity: {self.quantity}\")\n",
    "        \n",
    "# Creating an object of the class\n",
    "item1 = ShoppingItem(\"Apple\", 3)\n",
    "item1.display()\n"
   ]
  },
  {
   "cell_type": "markdown",
   "id": "922457e9",
   "metadata": {},
   "source": [
    "\n",
    "## Methods in Classes\n",
    "\n",
    "Methods are functions defined inside a class that describe the behaviors of the objects.\n",
    "In our `ShoppingItem` class, we have defined a method `display` to print the details of the shopping item.\n"
   ]
  },
  {
   "cell_type": "code",
   "execution_count": null,
   "id": "54161917",
   "metadata": {},
   "outputs": [],
   "source": [
    "\n",
    "# Create more objects\n",
    "item2 = ShoppingItem(\"Banana\", 5)\n",
    "item3 = ShoppingItem(\"Orange\", 2)\n",
    "\n",
    "# Display the details of each item\n",
    "item2.display()\n",
    "item3.display()\n"
   ]
  },
  {
   "cell_type": "markdown",
   "id": "ba996509",
   "metadata": {},
   "source": [
    "\n",
    "## Creating an Array of Objects\n",
    "\n",
    "Now, let's create a list (array) of `ShoppingItem` objects.\n",
    "We will prompt the user to input different items and their quantities. \n",
    "The user can type \"finished\" when they are done adding items.\n"
   ]
  },
  {
   "cell_type": "code",
   "execution_count": null,
   "id": "74ae164e",
   "metadata": {},
   "outputs": [],
   "source": [
    "\n",
    "# Initialize an empty list to hold shopping items\n",
    "shopping_list = []\n",
    "\n",
    "while True:\n",
    "    name = input(\"Enter item name (or 'finished' to end): \")\n",
    "    if name.lower() == 'finished':\n",
    "        break\n",
    "    quantity = int(input(\"Enter quantity: \"))\n",
    "    item = ShoppingItem(name, quantity)\n",
    "    shopping_list.append(item)\n",
    "\n",
    "# Display all items in the shopping list\n",
    "for item in shopping_list:\n",
    "    item.display()\n"
   ]
  },
  {
   "cell_type": "markdown",
   "id": "6139ed90",
   "metadata": {},
   "source": [
    "\n",
    "## Inheritance in OOP\n",
    "\n",
    "Inheritance allows a class to inherit attributes and methods from another class. This helps in reusing code and building a hierarchy of classes.\n",
    "\n",
    "Let's create a `PerishableItem` class that inherits from `ShoppingItem` and adds an expiry date.\n"
   ]
  },
  {
   "cell_type": "code",
   "execution_count": null,
   "id": "87a7895c",
   "metadata": {},
   "outputs": [],
   "source": [
    "\n",
    "# Define a class that inherits from ShoppingItem\n",
    "class PerishableItem(ShoppingItem):\n",
    "    def __init__(self, name, quantity, expiry_date):\n",
    "        super().__init__(name, quantity)  # Call the constructor of the parent class\n",
    "        self.expiry_date = expiry_date\n",
    "    \n",
    "    # Method to display item details with expiry date\n",
    "    def display(self):\n",
    "        print(f\"Item: {self.name}, Quantity: {self.quantity}, Expiry Date: {self.expiry_date}\")\n",
    "\n",
    "# Creating an object of the derived class\n",
    "item4 = PerishableItem(\"Milk\", 2, \"2024-07-01\")\n",
    "item4.display()\n"
   ]
  },
  {
   "cell_type": "markdown",
   "id": "5c58f11f",
   "metadata": {},
   "source": [
    "\n",
    "## Benefits of OOP\n",
    "\n",
    "1. **Encapsulation**: OOP allows bundling of data and methods that operate on that data within a single unit called a class.\n",
    "2. **Inheritance**: It enables new classes to inherit features from existing classes, promoting code reuse.\n",
    "3. **Polymorphism**: OOP allows methods to do different things based on the object it is acting upon, making the code more flexible and reusable.\n",
    "4. **Abstraction**: OOP enables hiding complex implementation details and showing only the essential features of the object, simplifying code management.\n"
   ]
  }
 ],
 "metadata": {},
 "nbformat": 4,
 "nbformat_minor": 5
}
